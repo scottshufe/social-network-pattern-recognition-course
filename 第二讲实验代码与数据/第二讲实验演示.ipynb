{
 "cells": [
  {
   "cell_type": "markdown",
   "metadata": {},
   "source": [
    "# 相关包的导入"
   ]
  },
  {
   "cell_type": "markdown",
   "metadata": {},
   "source": [
    "- networkx 官方文档: https://networkx.github.io/documentation/stable/"
   ]
  },
  {
   "cell_type": "code",
   "execution_count": 1,
   "metadata": {
    "ExecuteTime": {
     "end_time": "2020-09-17T13:47:26.197596Z",
     "start_time": "2020-09-17T13:47:25.658590Z"
    }
   },
   "outputs": [],
   "source": [
    "import networkx as nx\n",
    "import numpy as np\n",
    "import pylab\n",
    "import matplotlib.pyplot as plt\n",
    "%matplotlib inline"
   ]
  },
  {
   "cell_type": "markdown",
   "metadata": {},
   "source": [
    "# 生成网络"
   ]
  },
  {
   "cell_type": "markdown",
   "metadata": {},
   "source": [
    "1. 图:\n",
    "    - 无向图: Graph\n",
    "    - 有向图: DiGraph\n",
    "<br />\n",
    "<br />\n",
    "2. 节点:\n",
    "    - 添加一个节点: add_node(1)\n",
    "    - 添加多个节点: add_nodes_from([2, 3])\n",
    "<br />\n",
    "<br />\n",
    "3. 边:\n",
    "    - 添加一条边: add_edge(2, 3)\n",
    "    - 添加多条边: add_edges_from([(2, 3), (3, 4)])"
   ]
  },
  {
   "cell_type": "markdown",
   "metadata": {},
   "source": [
    "## 生成无向图"
   ]
  },
  {
   "cell_type": "code",
   "execution_count": 2,
   "metadata": {
    "ExecuteTime": {
     "end_time": "2020-09-17T13:47:29.055557Z",
     "start_time": "2020-09-17T13:47:29.050559Z"
    }
   },
   "outputs": [
    {
     "name": "stdout",
     "output_type": "stream",
     "text": [
      "All nodes: [1, 2, 3]\n",
      "All edges: [(2, 3)]\n",
      "Number of edges: 1\n"
     ]
    }
   ],
   "source": [
    "# 创建一个空的无向图G\n",
    "G = nx.Graph()\n",
    "\n",
    "# 向G中添加节点\n",
    "G.add_node(1)\n",
    "\n",
    "# 添加一条边（隐含地添加了两个节点2和3）\n",
    "G.add_edge(2, 3)\n",
    "# 在无向图中边2-3与边3-2被认为相同\n",
    "G.add_edge(3, 2)\n",
    "\n",
    "# 输出全部节点\n",
    "print(\"All nodes: {}\".format(G.nodes()))\n",
    "\n",
    "# 输出全部的边\n",
    "print(\"All edges: {}\".format(G.edges()))\n",
    "\n",
    "# 输出边的数量\n",
    "print(\"Number of edges: {}\".format(G.number_of_edges()))"
   ]
  },
  {
   "cell_type": "markdown",
   "metadata": {},
   "source": [
    "## 生成有向图"
   ]
  },
  {
   "cell_type": "code",
   "execution_count": 3,
   "metadata": {
    "ExecuteTime": {
     "end_time": "2020-09-17T14:02:59.555723Z",
     "start_time": "2020-09-17T14:02:59.550723Z"
    }
   },
   "outputs": [
    {
     "name": "stdout",
     "output_type": "stream",
     "text": [
      "All nodes: [1, 2, 3]\n",
      "All edges: [(2, 3), (3, 2)]\n",
      "Number of edges: 2\n"
     ]
    }
   ],
   "source": [
    "# 创建一个空的有向图G\n",
    "G = nx.DiGraph()\n",
    "\n",
    "# 向G中添加节点\n",
    "G.add_node(1)\n",
    "\n",
    "# 添加一条边（隐含地添加了两个节点2和3）\n",
    "G.add_edge(2, 3)\n",
    "# 在有向图中边2-3与边3-2被认为不相同\n",
    "G.add_edge(3, 2)\n",
    "\n",
    "# 输出全部节点\n",
    "print(\"All nodes: {}\".format(G.nodes()))\n",
    "\n",
    "# 输出全部的边\n",
    "# 观察与无向图中结果的不同之处\n",
    "print(\"All edges: {}\".format(G.edges()))\n",
    "\n",
    "# 输出边的数量\n",
    "print(\"Number of edges: {}\".format(G.number_of_edges()))"
   ]
  },
  {
   "cell_type": "markdown",
   "metadata": {},
   "source": [
    "## 生成加权图"
   ]
  },
  {
   "cell_type": "code",
   "execution_count": 4,
   "metadata": {
    "ExecuteTime": {
     "end_time": "2020-09-17T13:47:34.286592Z",
     "start_time": "2020-09-17T13:47:34.281583Z"
    }
   },
   "outputs": [
    {
     "name": "stdout",
     "output_type": "stream",
     "text": [
      "All nodes: [1, 2, 3]\n",
      "All edges: [(2, 3)]\n",
      "All edges data: [(2, 3, {'weight': 3})]\n",
      "Data of edge 2-3: {'weight': 3}\n",
      "Number of edges: 1\n"
     ]
    }
   ],
   "source": [
    "# 创建一个空的无向图G (或有向图)\n",
    "G = nx.Graph()\n",
    "\n",
    "# 向G中添加节点\n",
    "G.add_node(1)\n",
    "\n",
    "# 添加一条带有权重的边\n",
    "G.add_edge(2, 3, weight=3)\n",
    "\n",
    "# 输出全部节点\n",
    "print(\"All nodes: {}\".format(G.nodes()))\n",
    "\n",
    "# 输出全部的边\n",
    "print(\"All edges: {}\".format(G.edges()))\n",
    "print(\"All edges data: {}\".format(G.edges(data=True)))\n",
    "\n",
    "# 查看边的权重\n",
    "print(\"Data of edge 2-3: {}\".format(G.get_edge_data(2, 3)))\n",
    "\n",
    "# 输出边的数量\n",
    "print(\"Number of edges: {}\".format(G.number_of_edges()))"
   ]
  },
  {
   "cell_type": "markdown",
   "metadata": {},
   "source": [
    "## 根据邻接矩阵生成网络"
   ]
  },
  {
   "cell_type": "code",
   "execution_count": 5,
   "metadata": {
    "ExecuteTime": {
     "end_time": "2020-09-17T13:47:36.598559Z",
     "start_time": "2020-09-17T13:47:36.315559Z"
    }
   },
   "outputs": [
    {
     "name": "stdout",
     "output_type": "stream",
     "text": [
      "All nodes: [0, 1, 2, 3, 4]\n",
      "All edges: [(0, 2), (0, 4), (1, 3), (3, 4)]\n",
      "Number of edges: 4\n"
     ]
    }
   ],
   "source": [
    "adj_matrix = np.array([[0, 0, 1, 0, 1],\n",
    "                       [0, 0, 0, 1, 0],\n",
    "                       [1, 0, 0, 0, 0],\n",
    "                       [0, 1, 0, 0, 1],\n",
    "                       [1, 0, 0, 1, 0]])\n",
    "\n",
    "\n",
    "G = nx.Graph(adj_matrix)\n",
    "\n",
    "print(\"All nodes: {}\".format(G.nodes()))\n",
    "print(\"All edges: {}\".format(G.edges()))\n",
    "print(\"Number of edges: {}\".format(G.number_of_edges()))"
   ]
  },
  {
   "cell_type": "markdown",
   "metadata": {},
   "source": [
    "## 根据边列表生成网络"
   ]
  },
  {
   "cell_type": "code",
   "execution_count": 6,
   "metadata": {
    "ExecuteTime": {
     "end_time": "2020-09-17T13:47:38.775560Z",
     "start_time": "2020-09-17T13:47:38.771560Z"
    }
   },
   "outputs": [
    {
     "name": "stdout",
     "output_type": "stream",
     "text": [
      "All nodes: [0, 1, 2, 3, 4]\n",
      "All edges: [(0, 2), (0, 4), (1, 3), (3, 4)]\n",
      "Number of edges: 4\n"
     ]
    }
   ],
   "source": [
    "edge_list = [(0, 2), (0, 4), (1, 3), (3, 4)]\n",
    "G = nx.Graph()\n",
    "G.add_nodes_from([0,1,2,3,4])\n",
    "G.add_edges_from(edge_list)\n",
    "print(\"All nodes: {}\".format(G.nodes()))\n",
    "print(\"All edges: {}\".format(G.edges()))\n",
    "print(\"Number of edges: {}\".format(G.number_of_edges()))"
   ]
  },
  {
   "cell_type": "markdown",
   "metadata": {},
   "source": [
    "# 获取网络的邻接矩阵"
   ]
  },
  {
   "cell_type": "markdown",
   "metadata": {},
   "source": [
    "- nx.adj_matrix(G): 以稀疏矩阵的形式返回网络对应的邻接矩阵"
   ]
  },
  {
   "cell_type": "code",
   "execution_count": 7,
   "metadata": {
    "ExecuteTime": {
     "end_time": "2020-09-17T13:47:42.799561Z",
     "start_time": "2020-09-17T13:47:42.794557Z"
    }
   },
   "outputs": [
    {
     "data": {
      "text/plain": [
       "<5x5 sparse matrix of type '<class 'numpy.intc'>'\n",
       "\twith 8 stored elements in Compressed Sparse Row format>"
      ]
     },
     "execution_count": 7,
     "metadata": {},
     "output_type": "execute_result"
    }
   ],
   "source": [
    "nx.adj_matrix(G)"
   ]
  },
  {
   "cell_type": "code",
   "execution_count": 8,
   "metadata": {
    "ExecuteTime": {
     "end_time": "2020-09-17T13:47:44.941586Z",
     "start_time": "2020-09-17T13:47:44.938585Z"
    }
   },
   "outputs": [
    {
     "name": "stdout",
     "output_type": "stream",
     "text": [
      "  (0, 2)\t1\n",
      "  (0, 4)\t1\n",
      "  (1, 3)\t1\n",
      "  (2, 0)\t1\n",
      "  (3, 1)\t1\n",
      "  (3, 4)\t1\n",
      "  (4, 0)\t1\n",
      "  (4, 3)\t1\n"
     ]
    }
   ],
   "source": [
    "print(nx.adj_matrix(G))"
   ]
  },
  {
   "cell_type": "code",
   "execution_count": 9,
   "metadata": {
    "ExecuteTime": {
     "end_time": "2020-09-17T13:47:47.877559Z",
     "start_time": "2020-09-17T13:47:47.873589Z"
    }
   },
   "outputs": [
    {
     "name": "stdout",
     "output_type": "stream",
     "text": [
      "[[0 0 1 0 1]\n",
      " [0 0 0 1 0]\n",
      " [1 0 0 0 0]\n",
      " [0 1 0 0 1]\n",
      " [1 0 0 1 0]]\n"
     ]
    }
   ],
   "source": [
    "# 转化为稠密矩阵\n",
    "print(nx.adj_matrix(G).todense())"
   ]
  },
  {
   "cell_type": "markdown",
   "metadata": {},
   "source": [
    "# 获取节点的邻居"
   ]
  },
  {
   "cell_type": "markdown",
   "metadata": {},
   "source": [
    "- nx.neighbors(G, 0)\n",
    "- G.neighbors(0)"
   ]
  },
  {
   "cell_type": "code",
   "execution_count": 10,
   "metadata": {
    "ExecuteTime": {
     "end_time": "2020-09-17T14:03:04.580723Z",
     "start_time": "2020-09-17T14:03:04.575755Z"
    }
   },
   "outputs": [
    {
     "data": {
      "text/plain": [
       "<dict_keyiterator at 0x1eaa40b6958>"
      ]
     },
     "execution_count": 10,
     "metadata": {},
     "output_type": "execute_result"
    }
   ],
   "source": [
    "nx.neighbors(G, 0)"
   ]
  },
  {
   "cell_type": "code",
   "execution_count": 11,
   "metadata": {
    "ExecuteTime": {
     "end_time": "2020-09-17T14:03:05.091727Z",
     "start_time": "2020-09-17T14:03:05.087725Z"
    }
   },
   "outputs": [
    {
     "data": {
      "text/plain": [
       "<dict_keyiterator at 0x1eaa4c74868>"
      ]
     },
     "execution_count": 11,
     "metadata": {},
     "output_type": "execute_result"
    }
   ],
   "source": [
    "G.neighbors(0)"
   ]
  },
  {
   "cell_type": "code",
   "execution_count": 12,
   "metadata": {
    "ExecuteTime": {
     "end_time": "2020-09-17T14:03:05.610728Z",
     "start_time": "2020-09-17T14:03:05.607755Z"
    }
   },
   "outputs": [
    {
     "name": "stdout",
     "output_type": "stream",
     "text": [
      "2\n",
      "4\n"
     ]
    }
   ],
   "source": [
    "for neighbor in G.neighbors(0):\n",
    "    print(neighbor)"
   ]
  },
  {
   "cell_type": "markdown",
   "metadata": {},
   "source": [
    "# 迪杰斯特拉算法求解加权图最短路径问题"
   ]
  },
  {
   "cell_type": "markdown",
   "metadata": {},
   "source": [
    "- nx.dijkstra_path(G, source, target)        ——最短路径\n",
    "- nx.dijkstra_path_length(G, source, target)   ——最短距离"
   ]
  },
  {
   "cell_type": "code",
   "execution_count": 13,
   "metadata": {
    "ExecuteTime": {
     "end_time": "2020-09-17T13:59:32.049597Z",
     "start_time": "2020-09-17T13:59:31.911587Z"
    },
    "scrolled": false
   },
   "outputs": [
    {
     "name": "stdout",
     "output_type": "stream",
     "text": [
      "生成一个空的有向图\n",
      "为这个网络添加节点...\n",
      "在网络中添加带权中的边...\n",
      "给网络设置布局...\n",
      "画出网络图像：\n"
     ]
    },
    {
     "data": {
      "image/png": "[encoded data removed]",
      "text/plain": [
       "<Figure size 432x288 with 1 Axes>"
      ]
     },
     "metadata": {},
     "output_type": "display_data"
    },
    {
     "name": "stdout",
     "output_type": "stream",
     "text": [
      "dijkstra方法寻找最短路径：\n",
      "节点0到7的路径： [0, 3, 6, 7]\n",
      "dijkstra方法寻找最短距离：\n",
      "节点0到7的距离为： 9\n"
     ]
    }
   ],
   "source": [
    "#自定义网络\n",
    "row = np.array([0,0,0,1,2,3,6,1])\n",
    "col = np.array([1,8,3,4,5,6,7,7])\n",
    "value = np.array([1,2,1,8,1,3,5,10])\n",
    "\n",
    "print('生成一个空的有向图')\n",
    "G = nx.DiGraph()\n",
    "print('为这个网络添加节点...')\n",
    "for i in range(0, np.size(col)+1):\n",
    "    G.add_node(i)\n",
    "print('在网络中添加带权中的边...')\n",
    "for i in range(np.size(row)):\n",
    "    G.add_weighted_edges_from([(row[i], col[i], value[i])])\n",
    "\n",
    "print('给网络设置布局...')\n",
    "pos = nx.shell_layout(G)\n",
    "print('画出网络图像：')\n",
    "nx.draw(G,pos,with_labels=True, node_color='white', edge_color='red', node_size=400, alpha=0.5 )\n",
    "pylab.title('Example for dijkstra',fontsize=15)\n",
    "pylab.show()\n",
    "\n",
    "\n",
    "'''\n",
    "Shortest Path with dijkstra_path\n",
    "'''\n",
    "print('dijkstra方法寻找最短路径：')\n",
    "path = nx.dijkstra_path(G, source=0, target=7)\n",
    "print('节点0到7的路径：', path)\n",
    "print('dijkstra方法寻找最短距离：')\n",
    "distance = nx.dijkstra_path_length(G, source=0, target=7)\n",
    "print('节点0到7的距离为：', distance)"
   ]
  },
  {
   "cell_type": "markdown",
   "metadata": {},
   "source": [
    "# 使用真实网络数据集email-Eu-core做一些简单的分析"
   ]
  },
  {
   "cell_type": "markdown",
   "metadata": {},
   "source": [
    "## 读入边列表形式的数据"
   ]
  },
  {
   "cell_type": "markdown",
   "metadata": {},
   "source": [
    "- email-Eu-core.txt 中数据的格式：<br />\n",
    "    0 1 <br />\n",
    "    2 3 <br />\n",
    "    2 4 <br />\n",
    "    5 6 <br />\n",
    "    ... <br />"
   ]
  },
  {
   "cell_type": "code",
   "execution_count": 14,
   "metadata": {},
   "outputs": [],
   "source": [
    "edge_list = []\n",
    "with open('email-Eu-core.txt', 'r') as f:\n",
    "    lines = f.readlines()\n",
    "    for line in lines:\n",
    "        edge = tuple(line.replace('\\n', '').split(' '))\n",
    "        edge_list.append(edge)"
   ]
  },
  {
   "cell_type": "code",
   "execution_count": 15,
   "metadata": {},
   "outputs": [
    {
     "data": {
      "text/plain": [
       "[('0', '1'),\n",
       " ('2', '3'),\n",
       " ('2', '4'),\n",
       " ('5', '6'),\n",
       " ('5', '7'),\n",
       " ('8', '9'),\n",
       " ('10', '11'),\n",
       " ('12', '13'),\n",
       " ('12', '14'),\n",
       " ('15', '16'),\n",
       " ('17', '18'),\n",
       " ('12', '19'),\n",
       " ('20', '21'),\n",
       " ('20', '22'),\n",
       " ('23', '24'),\n",
       " ('23', '25'),\n",
       " ('23', '26'),\n",
       " ('23', '27'),\n",
       " ('23', '28'),\n",
       " ('23', '29'),\n",
       " ('23', '30'),\n",
       " ('23', '31'),\n",
       " ('23', '32'),\n",
       " ('23', '33'),\n",
       " ('23', '34'),\n",
       " ('23', '35'),\n",
       " ('23', '36'),\n",
       " ('23', '37'),\n",
       " ('23', '38'),\n",
       " ('23', '39'),\n",
       " ('23', '40'),\n",
       " ('41', '42'),\n",
       " ('43', '44'),\n",
       " ('45', '46'),\n",
       " ('47', '48'),\n",
       " ('49', '50'),\n",
       " ('41', '51'),\n",
       " ('52', '53'),\n",
       " ('54', '55'),\n",
       " ('54', '56'),\n",
       " ('54', '57'),\n",
       " ('54', '58'),\n",
       " ('54', '59'),\n",
       " ('60', '61'),\n",
       " ('54', '54'),\n",
       " ('62', '63'),\n",
       " ('64', '65'),\n",
       " ('62', '4'),\n",
       " ('66', '67'),\n",
       " ('68', '69'),\n",
       " ('42', '41'),\n",
       " ('70', '71'),\n",
       " ('72', '21'),\n",
       " ('71', '70'),\n",
       " ('73', '74'),\n",
       " ('75', '76'),\n",
       " ('75', '48'),\n",
       " ('77', '78'),\n",
       " ('77', '79'),\n",
       " ('80', '81'),\n",
       " ('80', '68'),\n",
       " ('19', '62'),\n",
       " ('82', '83'),\n",
       " ('22', '21'),\n",
       " ('82', '84'),\n",
       " ('21', '72'),\n",
       " ('41', '85'),\n",
       " ('41', '86'),\n",
       " ('41', '87'),\n",
       " ('82', '86'),\n",
       " ('88', '89'),\n",
       " ('90', '91'),\n",
       " ('92', '20'),\n",
       " ('41', '93'),\n",
       " ('41', '94'),\n",
       " ('41', '95'),\n",
       " ('89', '96'),\n",
       " ('89', '88'),\n",
       " ('97', '98'),\n",
       " ('97', '99'),\n",
       " ('97', '100'),\n",
       " ('97', '101'),\n",
       " ('97', '102'),\n",
       " ('103', '104'),\n",
       " ('51', '41'),\n",
       " ('82', '105'),\n",
       " ('90', '106'),\n",
       " ('62', '107'),\n",
       " ('108', '109'),\n",
       " ('108', '66'),\n",
       " ('108', '110'),\n",
       " ('108', '111'),\n",
       " ('108', '112'),\n",
       " ('113', '114'),\n",
       " ('115', '116'),\n",
       " ('117', '118'),\n",
       " ('76', '119'),\n",
       " ('17', '120'),\n",
       " ('82', '121'),\n",
       " ('122', '123'),\n",
       " ('14', '12'),\n",
       " ('124', '125'),\n",
       " ('13', '126'),\n",
       " ('127', '128'),\n",
       " ('127', '129'),\n",
       " ('127', '130'),\n",
       " ('131', '132'),\n",
       " ('40', '26'),\n",
       " ('40', '29'),\n",
       " ('18', '133'),\n",
       " ('56', '55'),\n",
       " ('56', '54'),\n",
       " ('56', '59'),\n",
       " ('134', '6'),\n",
       " ('115', '62'),\n",
       " ('135', '136'),\n",
       " ('137', '138'),\n",
       " ('137', '137'),\n",
       " ('22', '20'),\n",
       " ('139', '140'),\n",
       " ('141', '142'),\n",
       " ('143', '143'),\n",
       " ('143', '51'),\n",
       " ('143', '133'),\n",
       " ('144', '145'),\n",
       " ('146', '147'),\n",
       " ('83', '82'),\n",
       " ('148', '149'),\n",
       " ('150', '103'),\n",
       " ('150', '150'),\n",
       " ('49', '84'),\n",
       " ('151', '28'),\n",
       " ('152', '153'),\n",
       " ('153', '152'),\n",
       " ('154', '155'),\n",
       " ('156', '157'),\n",
       " ('139', '15'),\n",
       " ('158', '159'),\n",
       " ('4', '2'),\n",
       " ('4', '3'),\n",
       " ('133', '18'),\n",
       " ('160', '161'),\n",
       " ('84', '162'),\n",
       " ('84', '50'),\n",
       " ('84', '49'),\n",
       " ('84', '71'),\n",
       " ('72', '163'),\n",
       " ('164', '139'),\n",
       " ('165', '166'),\n",
       " ('167', '168'),\n",
       " ('123', '122'),\n",
       " ('169', '115'),\n",
       " ('169', '170'),\n",
       " ('40', '171'),\n",
       " ('123', '103'),\n",
       " ('123', '172'),\n",
       " ('123', '61'),\n",
       " ('123', '123'),\n",
       " ('24', '96'),\n",
       " ('81', '80'),\n",
       " ('173', '21'),\n",
       " ('174', '175'),\n",
       " ('176', '177'),\n",
       " ('176', '178'),\n",
       " ('122', '179'),\n",
       " ('21', '22'),\n",
       " ('180', '130'),\n",
       " ('181', '182'),\n",
       " ('129', '183'),\n",
       " ('184', '184'),\n",
       " ('181', '179'),\n",
       " ('185', '52'),\n",
       " ('70', '186'),\n",
       " ('106', '187'),\n",
       " ('137', '175'),\n",
       " ('137', '174'),\n",
       " ('188', '189'),\n",
       " ('108', '190'),\n",
       " ('191', '157'),\n",
       " ('191', '191'),\n",
       " ('192', '193'),\n",
       " ('192', '194'),\n",
       " ('192', '195'),\n",
       " ('192', '2'),\n",
       " ('192', '192'),\n",
       " ('41', '196'),\n",
       " ('41', '197'),\n",
       " ('41', '198'),\n",
       " ('41', '199'),\n",
       " ('41', '200'),\n",
       " ('41', '167'),\n",
       " ('41', '201'),\n",
       " ('41', '202'),\n",
       " ('41', '203'),\n",
       " ('41', '204'),\n",
       " ('41', '205'),\n",
       " ('41', '206'),\n",
       " ('41', '207'),\n",
       " ('208', '208'),\n",
       " ('61', '123'),\n",
       " ('209', '210'),\n",
       " ('41', '128'),\n",
       " ('211', '54'),\n",
       " ('115', '212'),\n",
       " ('106', '189'),\n",
       " ('137', '208'),\n",
       " ('212', '115'),\n",
       " ('56', '58'),\n",
       " ('30', '25'),\n",
       " ('30', '36'),\n",
       " ('30', '41'),\n",
       " ('155', '213'),\n",
       " ('48', '47'),\n",
       " ('214', '180'),\n",
       " ('96', '24'),\n",
       " ('4', '4'),\n",
       " ('4', '62'),\n",
       " ('155', '215'),\n",
       " ('216', '15'),\n",
       " ('170', '170'),\n",
       " ('71', '217'),\n",
       " ('71', '50'),\n",
       " ('71', '49'),\n",
       " ('13', '13'),\n",
       " ('98', '97'),\n",
       " ('74', '1'),\n",
       " ('74', '218'),\n",
       " ('74', '219'),\n",
       " ('74', '215'),\n",
       " ('74', '220'),\n",
       " ('74', '221'),\n",
       " ('74', '222'),\n",
       " ('74', '223'),\n",
       " ('74', '18'),\n",
       " ('74', '224'),\n",
       " ('74', '225'),\n",
       " ('74', '226'),\n",
       " ('74', '227'),\n",
       " ('74', '17'),\n",
       " ('74', '228'),\n",
       " ('229', '64'),\n",
       " ('100', '97'),\n",
       " ('230', '21'),\n",
       " ('230', '20'),\n",
       " ('231', '232'),\n",
       " ('233', '209'),\n",
       " ('233', '234'),\n",
       " ('233', '235'),\n",
       " ('233', '236'),\n",
       " ('233', '159'),\n",
       " ('233', '237'),\n",
       " ('233', '210'),\n",
       " ('233', '238'),\n",
       " ('233', '239'),\n",
       " ('233', '240'),\n",
       " ('233', '241'),\n",
       " ('233', '242'),\n",
       " ('233', '243'),\n",
       " ('233', '244'),\n",
       " ('245', '115'),\n",
       " ('246', '247'),\n",
       " ('248', '74'),\n",
       " ('13', '238'),\n",
       " ('106', '62'),\n",
       " ('106', '249'),\n",
       " ('13', '27'),\n",
       " ('13', '209'),\n",
       " ('103', '250'),\n",
       " ('40', '251'),\n",
       " ('175', '252'),\n",
       " ('169', '251'),\n",
       " ('115', '169'),\n",
       " ('232', '231'),\n",
       " ('75', '253'),\n",
       " ('75', '40'),\n",
       " ('175', '174'),\n",
       " ('254', '137'),\n",
       " ('249', '212'),\n",
       " ('249', '255'),\n",
       " ('249', '256'),\n",
       " ('222', '74'),\n",
       " ('183', '257'),\n",
       " ('17', '218'),\n",
       " ('183', '198'),\n",
       " ('183', '258'),\n",
       " ('183', '183'),\n",
       " ('19', '12'),\n",
       " ('259', '72'),\n",
       " ('259', '260'),\n",
       " ('75', '261'),\n",
       " ('115', '170'),\n",
       " ('251', '169'),\n",
       " ('262', '262'),\n",
       " ('263', '263'),\n",
       " ('264', '265'),\n",
       " ('264', '266'),\n",
       " ('264', '267'),\n",
       " ('106', '268'),\n",
       " ('269', '45'),\n",
       " ('129', '270'),\n",
       " ('271', '272'),\n",
       " ('81', '256'),\n",
       " ('46', '139'),\n",
       " ('46', '15'),\n",
       " ('46', '273'),\n",
       " ('46', '272'),\n",
       " ('46', '274'),\n",
       " ('46', '164'),\n",
       " ('46', '216'),\n",
       " ('46', '45'),\n",
       " ('275', '276'),\n",
       " ('277', '277'),\n",
       " ('155', '114'),\n",
       " ('158', '62'),\n",
       " ('129', '278'),\n",
       " ('101', '101'),\n",
       " ('29', '40'),\n",
       " ('279', '107'),\n",
       " ('155', '208'),\n",
       " ('231', '280'),\n",
       " ('281', '281'),\n",
       " ('282', '283'),\n",
       " ('155', '284'),\n",
       " ('46', '46'),\n",
       " ('160', '28'),\n",
       " ('160', '23'),\n",
       " ('285', '286'),\n",
       " ('285', '211'),\n",
       " ('258', '183'),\n",
       " ('69', '287'),\n",
       " ('280', '231'),\n",
       " ('212', '249'),\n",
       " ('162', '288'),\n",
       " ('162', '71'),\n",
       " ('162', '84'),\n",
       " ('280', '289'),\n",
       " ('280', '270'),\n",
       " ('280', '196'),\n",
       " ('280', '168'),\n",
       " ('280', '167'),\n",
       " ('280', '290'),\n",
       " ('280', '203'),\n",
       " ('280', '14'),\n",
       " ('280', '291'),\n",
       " ('280', '284'),\n",
       " ('280', '129'),\n",
       " ('280', '130'),\n",
       " ('280', '292'),\n",
       " ('293', '19'),\n",
       " ('254', '226'),\n",
       " ('129', '294'),\n",
       " ('189', '106'),\n",
       " ('295', '296'),\n",
       " ('165', '115'),\n",
       " ('287', '69'),\n",
       " ('287', '80'),\n",
       " ('74', '248'),\n",
       " ('74', '297'),\n",
       " ('74', '73'),\n",
       " ('298', '299'),\n",
       " ('281', '137'),\n",
       " ('147', '62'),\n",
       " ('147', '249'),\n",
       " ('62', '300'),\n",
       " ('301', '248'),\n",
       " ('302', '303'),\n",
       " ('303', '302'),\n",
       " ('304', '303'),\n",
       " ('252', '233'),\n",
       " ('252', '166'),\n",
       " ('252', '121'),\n",
       " ('252', '145'),\n",
       " ('252', '115'),\n",
       " ('136', '115'),\n",
       " ('92', '22'),\n",
       " ('303', '304'),\n",
       " ('268', '106'),\n",
       " ('252', '212'),\n",
       " ('252', '288'),\n",
       " ('252', '58'),\n",
       " ('252', '175'),\n",
       " ('252', '305'),\n",
       " ('252', '48'),\n",
       " ('12', '293'),\n",
       " ('306', '62'),\n",
       " ('281', '2'),\n",
       " ('236', '209'),\n",
       " ('236', '238'),\n",
       " ('236', '235'),\n",
       " ('236', '243'),\n",
       " ('236', '244'),\n",
       " ('102', '97'),\n",
       " ('175', '15'),\n",
       " ('6', '5'),\n",
       " ('17', '307'),\n",
       " ('17', '308'),\n",
       " ('17', '1'),\n",
       " ('17', '177'),\n",
       " ('17', '74'),\n",
       " ('17', '309'),\n",
       " ('17', '215'),\n",
       " ('17', '248'),\n",
       " ('17', '220'),\n",
       " ('17', '310'),\n",
       " ('17', '85'),\n",
       " ('17', '311'),\n",
       " ('17', '221'),\n",
       " ('17', '312'),\n",
       " ('17', '222'),\n",
       " ('17', '313'),\n",
       " ('17', '223'),\n",
       " ('17', '0'),\n",
       " ('17', '224'),\n",
       " ('17', '314'),\n",
       " ('17', '225'),\n",
       " ('17', '315'),\n",
       " ('17', '226'),\n",
       " ('17', '73'),\n",
       " ('17', '316'),\n",
       " ('17', '317'),\n",
       " ('17', '228'),\n",
       " ('245', '318'),\n",
       " ('35', '62'),\n",
       " ('236', '319'),\n",
       " ('167', '167'),\n",
       " ('167', '201'),\n",
       " ('167', '133'),\n",
       " ('167', '18'),\n",
       " ('320', '321'),\n",
       " ('254', '62'),\n",
       " ('322', '45'),\n",
       " ('220', '177'),\n",
       " ('215', '295'),\n",
       " ('321', '320'),\n",
       " ('102', '323'),\n",
       " ('102', '300'),\n",
       " ('147', '212'),\n",
       " ('147', '42'),\n",
       " ('147', '105'),\n",
       " ('11', '324'),\n",
       " ('21', '173'),\n",
       " ('21', '325'),\n",
       " ('21', '10'),\n",
       " ('21', '20'),\n",
       " ('21', '306'),\n",
       " ('21', '326'),\n",
       " ('21', '327'),\n",
       " ('21', '230'),\n",
       " ('328', '329'),\n",
       " ('64', '229'),\n",
       " ('215', '5'),\n",
       " ('209', '236'),\n",
       " ('18', '62'),\n",
       " ('73', '330'),\n",
       " ('73', '248'),\n",
       " ('73', '331'),\n",
       " ('73', '297'),\n",
       " ('73', '17'),\n",
       " ('290', '290'),\n",
       " ('141', '332'),\n",
       " ('69', '306'),\n",
       " ('139', '46'),\n",
       " ('333', '114'),\n",
       " ('334', '335'),\n",
       " ('336', '337'),\n",
       " ('336', '116'),\n",
       " ('336', '165'),\n",
       " ('336', '115'),\n",
       " ('336', '136'),\n",
       " ('336', '338'),\n",
       " ('336', '169'),\n",
       " ('336', '251'),\n",
       " ('336', '135'),\n",
       " ('336', '339'),\n",
       " ('340', '134'),\n",
       " ('251', '336'),\n",
       " ('58', '57'),\n",
       " ('341', '74'),\n",
       " ('341', '309'),\n",
       " ('341', '215'),\n",
       " ('341', '311'),\n",
       " ('341', '222'),\n",
       " ('341', '316'),\n",
       " ('191', '342'),\n",
       " ('191', '277'),\n",
       " ('191', '149'),\n",
       " ('191', '262'),\n",
       " ('191', '343'),\n",
       " ('191', '344'),\n",
       " ('191', '345'),\n",
       " ('191', '346'),\n",
       " ('191', '214'),\n",
       " ('191', '347'),\n",
       " ('191', '348'),\n",
       " ('191', '349'),\n",
       " ('191', '350'),\n",
       " ('191', '284'),\n",
       " ('191', '351'),\n",
       " ('191', '231'),\n",
       " ('191', '278'),\n",
       " ('191', '130'),\n",
       " ('191', '178'),\n",
       " ('191', '122'),\n",
       " ('191', '179'),\n",
       " ('191', '352'),\n",
       " ('191', '207'),\n",
       " ('353', '354'),\n",
       " ('353', '185'),\n",
       " ('90', '13'),\n",
       " ('114', '155'),\n",
       " ('288', '233'),\n",
       " ('142', '355'),\n",
       " ('356', '357'),\n",
       " ('114', '113'),\n",
       " ('47', '339'),\n",
       " ('194', '194'),\n",
       " ('194', '195'),\n",
       " ('63', '137'),\n",
       " ('43', '358'),\n",
       " ('63', '63'),\n",
       " ('359', '360'),\n",
       " ('86', '128'),\n",
       " ('64', '5'),\n",
       " ('160', '187'),\n",
       " ('114', '361'),\n",
       " ('232', '103'),\n",
       " ('244', '236'),\n",
       " ('160', '190'),\n",
       " ('69', '212'),\n",
       " ('335', '334'),\n",
       " ('114', '129'),\n",
       " ('243', '271'),\n",
       " ('184', '190'),\n",
       " ('212', '69'),\n",
       " ('62', '18'),\n",
       " ('44', '362'),\n",
       " ('44', '293'),\n",
       " ('271', '243'),\n",
       " ('310', '62'),\n",
       " ('252', '105'),\n",
       " ('88', '303'),\n",
       " ('153', '62'),\n",
       " ('363', '283'),\n",
       " ('363', '161'),\n",
       " ('363', '280'),\n",
       " ('363', '256'),\n",
       " ('363', '211'),\n",
       " ('363', '364'),\n",
       " ('363', '106'),\n",
       " ('363', '236'),\n",
       " ('363', '365'),\n",
       " ('363', '249'),\n",
       " ('114', '263'),\n",
       " ('114', '318'),\n",
       " ('145', '87'),\n",
       " ('145', '252'),\n",
       " ('263', '114'),\n",
       " ('39', '28'),\n",
       " ('105', '252'),\n",
       " ('153', '366'),\n",
       " ('165', '28'),\n",
       " ('165', '114'),\n",
       " ('165', '169'),\n",
       " ('165', '367'),\n",
       " ('37', '37'),\n",
       " ('52', '185'),\n",
       " ('187', '329'),\n",
       " ('187', '106'),\n",
       " ('220', '223'),\n",
       " ('52', '52'),\n",
       " ('52', '368'),\n",
       " ('252', '304'),\n",
       " ('252', '96'),\n",
       " ('252', '89'),\n",
       " ('252', '88'),\n",
       " ('252', '302'),\n",
       " ('252', '369'),\n",
       " ('116', '169'),\n",
       " ('362', '44'),\n",
       " ('362', '293'),\n",
       " ('184', '298'),\n",
       " ('169', '116'),\n",
       " ('178', '176'),\n",
       " ('265', '264'),\n",
       " ('236', '363'),\n",
       " ('195', '194'),\n",
       " ('40', '370'),\n",
       " ('238', '236'),\n",
       " ('170', '136'),\n",
       " ('353', '371'),\n",
       " ('86', '205'),\n",
       " ('86', '41'),\n",
       " ('190', '184'),\n",
       " ('372', '373'),\n",
       " ('288', '162'),\n",
       " ('160', '113'),\n",
       " ('54', '211'),\n",
       " ('180', '343'),\n",
       " ('55', '58'),\n",
       " ('160', '263'),\n",
       " ('62', '153'),\n",
       " ('374', '44'),\n",
       " ('58', '208'),\n",
       " ('62', '340'),\n",
       " ('14', '290'),\n",
       " ('170', '115'),\n",
       " ('5', '215'),\n",
       " ('80', '375'),\n",
       " ('376', '377'),\n",
       " ('22', '92'),\n",
       " ('94', '201'),\n",
       " ('58', '162'),\n",
       " ('55', '54'),\n",
       " ('295', '378'),\n",
       " ('295', '379'),\n",
       " ('295', '103'),\n",
       " ('295', '380'),\n",
       " ('295', '381'),\n",
       " ('295', '382'),\n",
       " ('295', '376'),\n",
       " ('295', '181'),\n",
       " ('295', '383'),\n",
       " ('295', '384'),\n",
       " ('295', '283'),\n",
       " ('295', '157'),\n",
       " ('295', '385'),\n",
       " ('295', '386'),\n",
       " ('295', '387'),\n",
       " ('295', '388'),\n",
       " ('295', '389'),\n",
       " ('295', '390'),\n",
       " ('295', '61'),\n",
       " ('295', '391'),\n",
       " ('295', '392'),\n",
       " ('295', '393'),\n",
       " ('295', '394'),\n",
       " ('295', '250'),\n",
       " ('295', '395'),\n",
       " ('295', '396'),\n",
       " ('295', '397'),\n",
       " ('295', '398'),\n",
       " ('295', '377'),\n",
       " ('295', '368'),\n",
       " ('295', '104'),\n",
       " ('295', '321'),\n",
       " ('295', '60'),\n",
       " ('295', '150'),\n",
       " ('295', '320'),\n",
       " ('295', '295'),\n",
       " ('40', '35'),\n",
       " ('37', '30'),\n",
       " ('133', '307'),\n",
       " ('133', '399'),\n",
       " ('133', '167'),\n",
       " ('133', '400'),\n",
       " ('133', '133'),\n",
       " ('133', '401'),\n",
       " ('133', '232'),\n",
       " ('133', '291'),\n",
       " ('133', '284'),\n",
       " ('133', '206'),\n",
       " ('133', '402'),\n",
       " ('133', '52'),\n",
       " ('133', '179'),\n",
       " ('133', '403'),\n",
       " ('68', '21'),\n",
       " ('404', '166'),\n",
       " ('113', '160'),\n",
       " ('405', '106'),\n",
       " ('306', '69'),\n",
       " ('113', '47'),\n",
       " ('43', '406'),\n",
       " ('43', '407'),\n",
       " ('103', '378'),\n",
       " ('103', '377'),\n",
       " ('103', '321'),\n",
       " ('157', '395'),\n",
       " ('213', '155'),\n",
       " ('263', '160'),\n",
       " ('4', '63'),\n",
       " ('4', '286'),\n",
       " ('183', '282'),\n",
       " ('286', '4'),\n",
       " ('213', '61'),\n",
       " ('213', '320'),\n",
       " ('61', '380'),\n",
       " ('2', '195'),\n",
       " ('114', '256'),\n",
       " ('114', '365'),\n",
       " ('2', '305'),\n",
       " ('286', '174'),\n",
       " ('183', '303'),\n",
       " ('377', '376'),\n",
       " ('408', '408'),\n",
       " ('377', '103'),\n",
       " ('164', '216'),\n",
       " ('409', '409'),\n",
       " ('305', '2'),\n",
       " ('305', '63'),\n",
       " ('2', '2'),\n",
       " ('410', '329'),\n",
       " ('355', '256'),\n",
       " ('355', '365'),\n",
       " ('135', '135'),\n",
       " ('132', '411'),\n",
       " ('132', '132'),\n",
       " ('114', '340'),\n",
       " ('412', '4'),\n",
       " ('412', '2'),\n",
       " ('183', '129'),\n",
       " ('201', '94'),\n",
       " ('63', '3'),\n",
       " ('63', '62'),\n",
       " ('57', '137'),\n",
       " ('2', '412'),\n",
       " ('157', '191'),\n",
       " ('135', '336'),\n",
       " ('172', '413'),\n",
       " ('172', '123'),\n",
       " ('193', '193'),\n",
       " ('3', '63'),\n",
       " ('377', '61'),\n",
       " ('296', '296'),\n",
       " ('63', '174'),\n",
       " ('96', '96'),\n",
       " ('149', '148'),\n",
       " ('414', '415'),\n",
       " ('306', '306'),\n",
       " ('61', '377'),\n",
       " ('195', '2'),\n",
       " ('258', '329'),\n",
       " ('267', '19'),\n",
       " ('5', '5'),\n",
       " ('327', '21'),\n",
       " ('327', '416'),\n",
       " ('327', '173'),\n",
       " ('48', '50'),\n",
       " ('48', '75'),\n",
       " ('263', '417'),\n",
       " ('50', '87'),\n",
       " ('50', '49'),\n",
       " ('50', '71'),\n",
       " ('50', '84'),\n",
       " ('418', '62'),\n",
       " ('418', '184'),\n",
       " ('418', '299'),\n",
       " ('216', '164'),\n",
       " ('9', '19'),\n",
       " ('214', '345'),\n",
       " ('214', '351'),\n",
       " ('419', '290'),\n",
       " ('29', '420'),\n",
       " ('9', '421'),\n",
       " ('366', '366'),\n",
       " ('417', '263'),\n",
       " ('87', '422'),\n",
       " ('87', '154'),\n",
       " ('87', '41'),\n",
       " ('87', '145'),\n",
       " ('87', '50'),\n",
       " ('254', '186'),\n",
       " ('422', '87'),\n",
       " ('115', '136'),\n",
       " ('249', '105'),\n",
       " ('423', '417'),\n",
       " ('16', '424'),\n",
       " ('284', '155'),\n",
       " ('13', '301'),\n",
       " ('38', '25'),\n",
       " ('38', '26'),\n",
       " ('38', '40'),\n",
       " ('425', '426'),\n",
       " ('115', '427'),\n",
       " ('417', '423'),\n",
       " ('118', '117'),\n",
       " ('86', '189'),\n",
       " ('329', '187'),\n",
       " ('174', '63'),\n",
       " ('21', '68'),\n",
       " ('329', '410'),\n",
       " ('231', '172'),\n",
       " ('154', '87'),\n",
       " ('428', '429'),\n",
       " ('184', '299'),\n",
       " ('430', '249'),\n",
       " ('282', '212'),\n",
       " ('282', '121'),\n",
       " ('282', '83'),\n",
       " ('282', '424'),\n",
       " ('71', '162'),\n",
       " ('71', '431'),\n",
       " ('71', '432'),\n",
       " ('71', '433'),\n",
       " ('71', '83'),\n",
       " ('71', '84'),\n",
       " ('13', '36'),\n",
       " ('270', '129'),\n",
       " ('434', '215'),\n",
       " ('132', '285'),\n",
       " ('179', '157'),\n",
       " ('115', '338'),\n",
       " ('435', '435'),\n",
       " ('435', '147'),\n",
       " ('39', '23'),\n",
       " ('424', '15'),\n",
       " ('424', '45'),\n",
       " ('115', '337'),\n",
       " ('115', '436'),\n",
       " ('115', '123'),\n",
       " ('115', '437'),\n",
       " ('115', '165'),\n",
       " ('115', '336'),\n",
       " ('115', '438'),\n",
       " ('115', '251'),\n",
       " ('115', '439'),\n",
       " ('115', '135'),\n",
       " ('115', '339'),\n",
       " ('138', '137'),\n",
       " ('105', '249'),\n",
       " ('440', '413'),\n",
       " ('440', '275'),\n",
       " ('440', '178'),\n",
       " ('394', '104'),\n",
       " ('414', '414'),\n",
       " ('29', '23'),\n",
       " ('441', '360'),\n",
       " ('20', '86'),\n",
       " ('85', '17'),\n",
       " ('30', '23'),\n",
       " ('85', '41'),\n",
       " ('417', '442'),\n",
       " ('23', '115'),\n",
       " ('417', '443'),\n",
       " ('417', '444'),\n",
       " ('212', '282'),\n",
       " ('212', '145'),\n",
       " ('137', '57'),\n",
       " ('27', '23'),\n",
       " ('438', '35'),\n",
       " ('434', '23'),\n",
       " ('255', '249'),\n",
       " ('139', '129'),\n",
       " ('139', '445'),\n",
       " ('417', '113'),\n",
       " ('417', '114'),\n",
       " ('140', '139'),\n",
       " ('140', '446'),\n",
       " ('140', '447'),\n",
       " ('140', '448'),\n",
       " ('438', '169'),\n",
       " ('139', '342'),\n",
       " ('35', '438'),\n",
       " ('321', '104'),\n",
       " ('414', '449'),\n",
       " ('115', '23'),\n",
       " ('55', '56'),\n",
       " ('55', '57'),\n",
       " ('324', '11'),\n",
       " ('23', '434'),\n",
       " ('57', '55'),\n",
       " ('450', '434'),\n",
       " ('29', '438'),\n",
       " ('338', '116'),\n",
       " ('250', '150'),\n",
       " ('160', '405'),\n",
       " ('363', '154'),\n",
       " ('74', '177'),\n",
       " ('74', '74'),\n",
       " ('19', '267'),\n",
       " ('288', '217'),\n",
       " ('288', '84'),\n",
       " ('438', '29'),\n",
       " ('451', '452'),\n",
       " ('284', '160'),\n",
       " ('437', '135'),\n",
       " ('178', '177'),\n",
       " ('135', '437'),\n",
       " ('116', '338'),\n",
       " ('86', '453'),\n",
       " ('454', '357'),\n",
       " ('169', '438'),\n",
       " ('210', '210'),\n",
       " ('405', '160'),\n",
       " ('169', '338'),\n",
       " ('248', '142'),\n",
       " ('73', '73'),\n",
       " ('437', '455'),\n",
       " ('456', '456'),\n",
       " ('84', '82'),\n",
       " ('84', '121'),\n",
       " ('65', '457'),\n",
       " ('73', '215'),\n",
       " ('21', '212'),\n",
       " ('212', '21'),\n",
       " ('458', '129'),\n",
       " ('164', '46'),\n",
       " ('177', '176'),\n",
       " ('177', '178'),\n",
       " ('139', '164'),\n",
       " ('62', '283'),\n",
       " ('152', '147'),\n",
       " ('21', '74'),\n",
       " ('107', '113'),\n",
       " ('107', '417'),\n",
       " ('107', '114'),\n",
       " ('147', '152'),\n",
       " ('333', '62'),\n",
       " ('223', '459'),\n",
       " ('406', '11'),\n",
       " ('40', '48'),\n",
       " ('238', '244'),\n",
       " ('253', '75'),\n",
       " ('260', '74'),\n",
       " ('417', '62'),\n",
       " ('113', '417'),\n",
       " ('106', '405'),\n",
       " ('62', '333'),\n",
       " ('139', '429'),\n",
       " ('434', '450'),\n",
       " ('434', '460'),\n",
       " ('434', '365'),\n",
       " ('68', '80'),\n",
       " ('275', '172'),\n",
       " ('461', '45'),\n",
       " ('116', '336'),\n",
       " ('283', '308'),\n",
       " ('462', '463'),\n",
       " ('216', '216'),\n",
       " ('207', '41'),\n",
       " ('448', '140'),\n",
       " ('448', '272'),\n",
       " ('448', '46'),\n",
       " ('448', '45'),\n",
       " ('244', '238'),\n",
       " ('62', '441'),\n",
       " ('338', '123'),\n",
       " ('268', '459'),\n",
       " ('464', '280'),\n",
       " ('465', '155'),\n",
       " ('422', '404'),\n",
       " ('466', '421'),\n",
       " ('142', '187'),\n",
       " ('160', '18'),\n",
       " ('61', '295'),\n",
       " ('467', '152'),\n",
       " ('58', '305'),\n",
       " ('26', '38'),\n",
       " ('26', '40'),\n",
       " ('351', '180'),\n",
       " ('148', '468'),\n",
       " ('265', '19'),\n",
       " ('314', '17'),\n",
       " ('160', '284'),\n",
       " ('455', '375'),\n",
       " ('91', '469'),\n",
       " ('283', '282'),\n",
       " ('170', '470'),\n",
       " ('102', '2'),\n",
       " ('393', '378'),\n",
       " ('393', '379'),\n",
       " ('393', '103'),\n",
       " ('393', '381'),\n",
       " ('393', '376'),\n",
       " ('393', '181'),\n",
       " ('393', '385'),\n",
       " ('393', '388'),\n",
       " ('393', '390'),\n",
       " ('393', '61'),\n",
       " ('393', '392'),\n",
       " ('393', '393'),\n",
       " ('393', '394'),\n",
       " ('393', '296'),\n",
       " ('393', '250'),\n",
       " ('393', '395'),\n",
       " ('393', '397'),\n",
       " ('393', '377'),\n",
       " ('393', '368'),\n",
       " ('393', '104'),\n",
       " ('393', '321'),\n",
       " ('393', '60'),\n",
       " ('393', '150'),\n",
       " ('393', '320'),\n",
       " ('393', '295'),\n",
       " ('232', '52'),\n",
       " ('375', '455'),\n",
       " ('171', '40'),\n",
       " ('471', '472'),\n",
       " ('471', '255'),\n",
       " ('105', '473'),\n",
       " ('105', '434'),\n",
       " ('152', '467'),\n",
       " ('280', '464'),\n",
       " ('474', '91'),\n",
       " ('126', '13'),\n",
       " ('176', '292'),\n",
       " ('470', '170'),\n",
       " ('79', '62'),\n",
       " ('258', '62'),\n",
       " ('166', '424'),\n",
       " ('375', '143'),\n",
       " ...]"
      ]
     },
     "execution_count": 15,
     "metadata": {},
     "output_type": "execute_result"
    }
   ],
   "source": [
    "edge_list"
   ]
  },
  {
   "cell_type": "markdown",
   "metadata": {},
   "source": [
    "## 根据边列表数据建立网络"
   ]
  },
  {
   "cell_type": "code",
   "execution_count": 16,
   "metadata": {},
   "outputs": [],
   "source": [
    "G = nx.Graph()\n",
    "G.add_edges_from(edge_list)"
   ]
  },
  {
   "cell_type": "code",
   "execution_count": 17,
   "metadata": {
    "scrolled": true
   },
   "outputs": [
    {
     "data": {
      "text/plain": [
       "1005"
      ]
     },
     "execution_count": 17,
     "metadata": {},
     "output_type": "execute_result"
    }
   ],
   "source": [
    "# 输出网络的节点数\n",
    "len(G.nodes())"
   ]
  },
  {
   "cell_type": "code",
   "execution_count": 18,
   "metadata": {},
   "outputs": [
    {
     "data": {
      "text/plain": [
       "16706"
      ]
     },
     "execution_count": 18,
     "metadata": {},
     "output_type": "execute_result"
    }
   ],
   "source": [
    "# 输出网络的边数\n",
    "len(G.edges())"
   ]
  },
  {
   "cell_type": "code",
   "execution_count": 19,
   "metadata": {},
   "outputs": [
    {
     "data": {
      "image/png": "[encoded data removed]",
      "text/plain": [
       "<Figure size 432x288 with 1 Axes>"
      ]
     },
     "metadata": {},
     "output_type": "display_data"
    }
   ],
   "source": [
    "# 初步地绘制网络图\n",
    "pos = nx.random_layout(G)\n",
    "# bipartite_layout\n",
    "# circular_layout\n",
    "# random_layout\n",
    "nx.draw_spring(G, node_color='black', edge_color='red', node_size=10, alpha=0.5 )"
   ]
  },
  {
   "cell_type": "markdown",
   "metadata": {},
   "source": [
    "## 统计网络节点度的分布"
   ]
  },
  {
   "cell_type": "code",
   "execution_count": 20,
   "metadata": {},
   "outputs": [],
   "source": [
    "from collections import Counter"
   ]
  },
  {
   "cell_type": "code",
   "execution_count": 21,
   "metadata": {},
   "outputs": [],
   "source": [
    "degree_list = []\n",
    "for node in G.nodes():\n",
    "    degree_list.append(G.degree(node))"
   ]
  },
  {
   "cell_type": "code",
   "execution_count": 22,
   "metadata": {},
   "outputs": [],
   "source": [
    "degrees = list(sorted(Counter(degree_list).keys()))"
   ]
  },
  {
   "cell_type": "code",
   "execution_count": 23,
   "metadata": {},
   "outputs": [],
   "source": [
    "values = [Counter(degree_list)[degree] for degree in degrees]"
   ]
  },
  {
   "cell_type": "code",
   "execution_count": 24,
   "metadata": {},
   "outputs": [
    {
     "data": {
      "text/plain": [
       "[<matplotlib.lines.Line2D at 0x1eaa8913160>]"
      ]
     },
     "execution_count": 24,
     "metadata": {},
     "output_type": "execute_result"
    },
    {
     "data": {
      "image/png": "[encoded data removed]",
      "text/plain": [
       "<Figure size 432x288 with 1 Axes>"
      ]
     },
     "metadata": {
      "needs_background": "light"
     },
     "output_type": "display_data"
    }
   ],
   "source": [
    "plt.plot(degrees, values)"
   ]
  }
 ],
 "metadata": {
  "hide_input": false,
  "kernelspec": {
   "display_name": "Python 3",
   "language": "python",
   "name": "python3"
  },
  "language_info": {
   "codemirror_mode": {
    "name": "ipython",
    "version": 3
   },
   "file_extension": ".py",
   "mimetype": "text/x-python",
   "name": "python",
   "nbconvert_exporter": "python",
   "pygments_lexer": "ipython3",
   "version": "3.7.0"
  },
  "latex_envs": {
   "LaTeX_envs_menu_present": true,
   "autoclose": false,
   "autocomplete": true,
   "bibliofile": "biblio.bib",
   "cite_by": "apalike",
   "current_citInitial": 1,
   "eqLabelWithNumbers": true,
   "eqNumInitial": 1,
   "hotkeys": {
    "equation": "Ctrl-E",
    "itemize": "Ctrl-I"
   },
   "labels_anchors": false,
   "latex_user_defs": false,
   "report_style_numbering": false,
   "user_envs_cfg": false
  },
  "toc": {
   "base_numbering": 1,
   "nav_menu": {},
   "number_sections": true,
   "sideBar": true,
   "skip_h1_title": false,
   "title_cell": "Table of Contents",
   "title_sidebar": "Contents",
   "toc_cell": false,
   "toc_position": {},
   "toc_section_display": true,
   "toc_window_display": false
  }
 },
 "nbformat": 4,
 "nbformat_minor": 2
}
