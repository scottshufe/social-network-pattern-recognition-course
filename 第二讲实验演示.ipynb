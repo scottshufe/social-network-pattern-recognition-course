{
 "cells": [
  {
   "cell_type": "markdown",
   "metadata": {},
   "source": [
    "# 相关包的导入"
   ]
  },
  {
   "cell_type": "markdown",
   "metadata": {},
   "source": [
    "- networkx 官方文档: https://networkx.github.io/documentation/stable/"
   ]
  },
  {
   "cell_type": "code",
   "execution_count": 1,
   "metadata": {
    "ExecuteTime": {
     "end_time": "2020-09-17T13:47:26.197596Z",
     "start_time": "2020-09-17T13:47:25.658590Z"
    }
   },
   "outputs": [],
   "source": [
    "import networkx as nx\n",
    "import numpy as np\n",
    "import pylab\n",
    "import matplotlib.pyplot as plt\n",
    "% matplotlib inline"
   ]
  },
  {
   "cell_type": "markdown",
   "metadata": {},
   "source": [
    "# 生成网络"
   ]
  },
  {
   "cell_type": "markdown",
   "metadata": {},
   "source": [
    "1. 图:\n",
    "    - 无向图: Graph\n",
    "    - 有向图: DiGraph\n",
    "<br />\n",
    "<br />\n",
    "2. 节点:\n",
    "    - 添加一个节点: add_node(1)\n",
    "    - 添加多个节点: add_nodes_from([2, 3])\n",
    "<br />\n",
    "<br />\n",
    "3. 边:\n",
    "    - 添加一条边: add_edge(2, 3)\n",
    "    - 添加多条边: add_edges_from([(2, 3), (3, 4)])"
   ]
  },
  {
   "cell_type": "markdown",
   "metadata": {},
   "source": [
    "## 生成无向图"
   ]
  },
  {
   "cell_type": "code",
   "execution_count": 2,
   "metadata": {
    "ExecuteTime": {
     "end_time": "2020-09-17T13:47:29.055557Z",
     "start_time": "2020-09-17T13:47:29.050559Z"
    }
   },
   "outputs": [
    {
     "name": "stdout",
     "output_type": "stream",
     "text": [
      "All nodes: [1, 2, 3]\n",
      "All edges: [(2, 3)]\n",
      "Number of edges: 1\n"
     ]
    }
   ],
   "source": [
    "# 创建一个空的无向图G\n",
    "G = nx.Graph()\n",
    "\n",
    "# 向G中添加节点\n",
    "G.add_node(1)\n",
    "\n",
    "# 添加一条边（隐含地添加了两个节点2和3）\n",
    "G.add_edge(2, 3)\n",
    "# 在无向图中边2-3与边3-2被认为相同\n",
    "G.add_edge(3, 2)\n",
    "\n",
    "# 输出全部节点\n",
    "print(\"All nodes: {}\".format(G.nodes()))\n",
    "\n",
    "# 输出全部的边\n",
    "print(\"All edges: {}\".format(G.edges()))\n",
    "\n",
    "# 输出边的数量\n",
    "print(\"Number of edges: {}\".format(G.number_of_edges()))"
   ]
  },
  {
   "cell_type": "markdown",
   "metadata": {},
   "source": [
    "## 生成有向图"
   ]
  },
  {
   "cell_type": "code",
   "execution_count": 3,
   "metadata": {
    "ExecuteTime": {
     "end_time": "2020-09-17T14:02:59.555723Z",
     "start_time": "2020-09-17T14:02:59.550723Z"
    }
   },
   "outputs": [
    {
     "name": "stdout",
     "output_type": "stream",
     "text": [
      "All nodes: [1, 2, 3]\n",
      "All edges: [(2, 3), (3, 2)]\n",
      "Number of edges: 2\n"
     ]
    }
   ],
   "source": [
    "# 创建一个空的有向图G\n",
    "G = nx.DiGraph()\n",
    "\n",
    "# 向G中添加节点\n",
    "G.add_node(1)\n",
    "\n",
    "# 添加一条边（隐含地添加了两个节点2和3）\n",
    "G.add_edge(2, 3)\n",
    "# 在有向图中边2-3与边3-2被认为不相同\n",
    "G.add_edge(3, 2)\n",
    "\n",
    "# 输出全部节点\n",
    "print(\"All nodes: {}\".format(G.nodes()))\n",
    "\n",
    "# 输出全部的边\n",
    "# 观察与无向图中结果的不同之处\n",
    "print(\"All edges: {}\".format(G.edges()))\n",
    "\n",
    "# 输出边的数量\n",
    "print(\"Number of edges: {}\".format(G.number_of_edges()))"
   ]
  },
  {
   "cell_type": "markdown",
   "metadata": {},
   "source": [
    "## 生成加权图"
   ]
  },
  {
   "cell_type": "code",
   "execution_count": 4,
   "metadata": {
    "ExecuteTime": {
     "end_time": "2020-09-17T13:47:34.286592Z",
     "start_time": "2020-09-17T13:47:34.281583Z"
    }
   },
   "outputs": [
    {
     "name": "stdout",
     "output_type": "stream",
     "text": [
      "All nodes: [1, 2, 3]\n",
      "All edges: [(2, 3)]\n",
      "All edges data: [(2, 3, {'weight': 3})]\n",
      "Data of edge 2-3: {'weight': 3}\n",
      "Number of edges: 1\n"
     ]
    }
   ],
   "source": [
    "# 创建一个空的无向图G (或有向图)\n",
    "G = nx.Graph()\n",
    "\n",
    "# 向G中添加节点\n",
    "G.add_node(1)\n",
    "\n",
    "# 添加一条带有权重的边\n",
    "G.add_edge(2, 3, weight=3)\n",
    "\n",
    "# 输出全部节点\n",
    "print(\"All nodes: {}\".format(G.nodes()))\n",
    "\n",
    "# 输出全部的边\n",
    "print(\"All edges: {}\".format(G.edges()))\n",
    "print(\"All edges data: {}\".format(G.edges(data=True)))\n",
    "\n",
    "# 查看边的权重\n",
    "print(\"Data of edge 2-3: {}\".format(G.get_edge_data(2, 3)))\n",
    "\n",
    "# 输出边的数量\n",
    "print(\"Number of edges: {}\".format(G.number_of_edges()))"
   ]
  },
  {
   "cell_type": "markdown",
   "metadata": {},
   "source": [
    "## 根据邻接矩阵生成网络"
   ]
  },
  {
   "cell_type": "code",
   "execution_count": 5,
   "metadata": {
    "ExecuteTime": {
     "end_time": "2020-09-17T13:47:36.598559Z",
     "start_time": "2020-09-17T13:47:36.315559Z"
    }
   },
   "outputs": [
    {
     "name": "stdout",
     "output_type": "stream",
     "text": [
      "All nodes: [0, 1, 2, 3, 4]\n",
      "All edges: [(0, 2), (0, 4), (1, 3), (3, 4)]\n",
      "Number of edges: 4\n"
     ]
    }
   ],
   "source": [
    "adj_matrix = np.array([[0, 0, 1, 0, 1],\n",
    "                       [0, 0, 0, 1, 0],\n",
    "                       [1, 0, 0, 0, 0],\n",
    "                       [0, 1, 0, 0, 1],\n",
    "                       [1, 0, 0, 1, 0]])\n",
    "\n",
    "\n",
    "G = nx.Graph(adj_matrix)\n",
    "\n",
    "print(\"All nodes: {}\".format(G.nodes()))\n",
    "print(\"All edges: {}\".format(G.edges()))\n",
    "print(\"Number of edges: {}\".format(G.number_of_edges()))"
   ]
  },
  {
   "cell_type": "markdown",
   "metadata": {},
   "source": [
    "## 根据边列表生成网络"
   ]
  },
  {
   "cell_type": "code",
   "execution_count": 6,
   "metadata": {
    "ExecuteTime": {
     "end_time": "2020-09-17T13:47:38.775560Z",
     "start_time": "2020-09-17T13:47:38.771560Z"
    }
   },
   "outputs": [
    {
     "name": "stdout",
     "output_type": "stream",
     "text": [
      "All nodes: [0, 1, 2, 3, 4]\n",
      "All edges: [(0, 2), (0, 4), (1, 3), (3, 4)]\n",
      "Number of edges: 4\n"
     ]
    }
   ],
   "source": [
    "edge_list = [(0, 2), (0, 4), (1, 3), (3, 4)]\n",
    "G = nx.Graph()\n",
    "G.add_nodes_from([0,1,2,3,4])\n",
    "G.add_edges_from(edge_list)\n",
    "print(\"All nodes: {}\".format(G.nodes()))\n",
    "print(\"All edges: {}\".format(G.edges()))\n",
    "print(\"Number of edges: {}\".format(G.number_of_edges()))"
   ]
  },
  {
   "cell_type": "markdown",
   "metadata": {},
   "source": [
    "# 获取网络的邻接矩阵"
   ]
  },
  {
   "cell_type": "markdown",
   "metadata": {},
   "source": [
    "- nx.adj_matrix(G): 以稀疏矩阵的形式返回网络对应的邻接矩阵"
   ]
  },
  {
   "cell_type": "code",
   "execution_count": 7,
   "metadata": {
    "ExecuteTime": {
     "end_time": "2020-09-17T13:47:42.799561Z",
     "start_time": "2020-09-17T13:47:42.794557Z"
    }
   },
   "outputs": [
    {
     "data": {
      "text/plain": [
       "<5x5 sparse matrix of type '<class 'numpy.intc'>'\n",
       "\twith 8 stored elements in Compressed Sparse Row format>"
      ]
     },
     "execution_count": 7,
     "metadata": {},
     "output_type": "execute_result"
    }
   ],
   "source": [
    "nx.adj_matrix(G)"
   ]
  },
  {
   "cell_type": "code",
   "execution_count": 8,
   "metadata": {
    "ExecuteTime": {
     "end_time": "2020-09-17T13:47:44.941586Z",
     "start_time": "2020-09-17T13:47:44.938585Z"
    }
   },
   "outputs": [
    {
     "name": "stdout",
     "output_type": "stream",
     "text": [
      "  (0, 2)\t1\n",
      "  (0, 4)\t1\n",
      "  (1, 3)\t1\n",
      "  (2, 0)\t1\n",
      "  (3, 1)\t1\n",
      "  (3, 4)\t1\n",
      "  (4, 0)\t1\n",
      "  (4, 3)\t1\n"
     ]
    }
   ],
   "source": [
    "print(nx.adj_matrix(G))"
   ]
  },
  {
   "cell_type": "code",
   "execution_count": 9,
   "metadata": {
    "ExecuteTime": {
     "end_time": "2020-09-17T13:47:47.877559Z",
     "start_time": "2020-09-17T13:47:47.873589Z"
    }
   },
   "outputs": [
    {
     "name": "stdout",
     "output_type": "stream",
     "text": [
      "[[0 0 1 0 1]\n",
      " [0 0 0 1 0]\n",
      " [1 0 0 0 0]\n",
      " [0 1 0 0 1]\n",
      " [1 0 0 1 0]]\n"
     ]
    }
   ],
   "source": [
    "# 转化为稠密矩阵\n",
    "print(nx.adj_matrix(G).todense())"
   ]
  },
  {
   "cell_type": "markdown",
   "metadata": {},
   "source": [
    "# 获取节点的邻居"
   ]
  },
  {
   "cell_type": "markdown",
   "metadata": {},
   "source": [
    "- nx.neighbors(G, 0)\n",
    "- G.neighbors(0)"
   ]
  },
  {
   "cell_type": "code",
   "execution_count": 10,
   "metadata": {
    "ExecuteTime": {
     "end_time": "2020-09-17T14:03:04.580723Z",
     "start_time": "2020-09-17T14:03:04.575755Z"
    }
   },
   "outputs": [
    {
     "data": {
      "text/plain": [
       "<dict_keyiterator at 0x26affc844f8>"
      ]
     },
     "execution_count": 10,
     "metadata": {},
     "output_type": "execute_result"
    }
   ],
   "source": [
    "nx.neighbors(G, 0)"
   ]
  },
  {
   "cell_type": "code",
   "execution_count": 11,
   "metadata": {
    "ExecuteTime": {
     "end_time": "2020-09-17T14:03:05.091727Z",
     "start_time": "2020-09-17T14:03:05.087725Z"
    }
   },
   "outputs": [
    {
     "data": {
      "text/plain": [
       "<dict_keyiterator at 0x26a8484d728>"
      ]
     },
     "execution_count": 11,
     "metadata": {},
     "output_type": "execute_result"
    }
   ],
   "source": [
    "G.neighbors(0)"
   ]
  },
  {
   "cell_type": "code",
   "execution_count": 12,
   "metadata": {
    "ExecuteTime": {
     "end_time": "2020-09-17T14:03:05.610728Z",
     "start_time": "2020-09-17T14:03:05.607755Z"
    }
   },
   "outputs": [
    {
     "name": "stdout",
     "output_type": "stream",
     "text": [
      "2\n",
      "4\n"
     ]
    }
   ],
   "source": [
    "for neighbor in G.neighbors(0):\n",
    "    print(neighbor)"
   ]
  },
  {
   "cell_type": "markdown",
   "metadata": {},
   "source": [
    "# 迪杰斯特拉算法求解加权图最短路径问题"
   ]
  },
  {
   "cell_type": "markdown",
   "metadata": {},
   "source": [
    "- nx.dijkstra_path(G, source, target)        ——最短路径\n",
    "- nx.dijkstra_path_length(G, source, target)   ——最短距离"
   ]
  },
  {
   "cell_type": "code",
   "execution_count": 13,
   "metadata": {
    "ExecuteTime": {
     "end_time": "2020-09-17T13:59:32.049597Z",
     "start_time": "2020-09-17T13:59:31.911587Z"
    }
   },
   "outputs": [
    {
     "name": "stdout",
     "output_type": "stream",
     "text": [
      "生成一个空的有向图\n",
      "为这个网络添加节点...\n",
      "在网络中添加带权中的边...\n",
      "给网络设置布局...\n",
      "画出网络图像：\n"
     ]
    },
    {
     "data": {
      "image/png": "[encoded data removed]",
      "text/plain": [
       "<Figure size 432x288 with 1 Axes>"
      ]
     },
     "metadata": {},
     "output_type": "display_data"
    },
    {
     "name": "stdout",
     "output_type": "stream",
     "text": [
      "dijkstra方法寻找最短路径：\n",
      "节点0到7的路径： [0, 3, 6, 7]\n",
      "dijkstra方法寻找最短距离：\n",
      "节点0到7的距离为： 9\n"
     ]
    }
   ],
   "source": [
    "#自定义网络\n",
    "row = np.array([0,0,0,1,2,3,6,1])\n",
    "col = np.array([1,8,3,4,5,6,7,7])\n",
    "value = np.array([1,2,1,8,1,3,5,10])\n",
    "\n",
    "print('生成一个空的有向图')\n",
    "G = nx.DiGraph()\n",
    "print('为这个网络添加节点...')\n",
    "for i in range(0, np.size(col)+1):\n",
    "    G.add_node(i)\n",
    "print('在网络中添加带权中的边...')\n",
    "for i in range(np.size(row)):\n",
    "    G.add_weighted_edges_from([(row[i], col[i], value[i])])\n",
    "\n",
    "print('给网络设置布局...')\n",
    "pos = nx.shell_layout(G)\n",
    "print('画出网络图像：')\n",
    "nx.draw(G,pos,with_labels=True, node_color='white', edge_color='red', node_size=400, alpha=0.5 )\n",
    "pylab.title('Example for dijkstra',fontsize=15)\n",
    "pylab.show()\n",
    "\n",
    "\n",
    "'''\n",
    "Shortest Path with dijkstra_path\n",
    "'''\n",
    "print('dijkstra方法寻找最短路径：')\n",
    "path = nx.dijkstra_path(G, source=0, target=7)\n",
    "print('节点0到7的路径：', path)\n",
    "print('dijkstra方法寻找最短距离：')\n",
    "distance = nx.dijkstra_path_length(G, source=0, target=7)\n",
    "print('节点0到7的距离为：', distance)"
   ]
  }
 ],
 "metadata": {
  "hide_input": false,
  "kernelspec": {
   "display_name": "Python 3",
   "language": "python",
   "name": "python3"
  },
  "language_info": {
   "codemirror_mode": {
    "name": "ipython",
    "version": 3
   },
   "file_extension": ".py",
   "mimetype": "text/x-python",
   "name": "python",
   "nbconvert_exporter": "python",
   "pygments_lexer": "ipython3",
   "version": "3.7.0"
  },
  "latex_envs": {
   "LaTeX_envs_menu_present": true,
   "autoclose": false,
   "autocomplete": true,
   "bibliofile": "biblio.bib",
   "cite_by": "apalike",
   "current_citInitial": 1,
   "eqLabelWithNumbers": true,
   "eqNumInitial": 1,
   "hotkeys": {
    "equation": "Ctrl-E",
    "itemize": "Ctrl-I"
   },
   "labels_anchors": false,
   "latex_user_defs": false,
   "report_style_numbering": false,
   "user_envs_cfg": false
  },
  "toc": {
   "base_numbering": 1,
   "nav_menu": {},
   "number_sections": true,
   "sideBar": true,
   "skip_h1_title": false,
   "title_cell": "Table of Contents",
   "title_sidebar": "Contents",
   "toc_cell": false,
   "toc_position": {},
   "toc_section_display": true,
   "toc_window_display": false
  }
 },
 "nbformat": 4,
 "nbformat_minor": 2
}
